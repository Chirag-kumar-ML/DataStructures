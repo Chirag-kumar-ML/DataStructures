{
 "cells": [
  {
   "cell_type": "code",
   "execution_count": 1,
   "metadata": {},
   "outputs": [],
   "source": [
    "class Node:\n",
    "    # If data is not given by user,its taken as None \n",
    "    def __init__(self, data=None, next=None, prev=None):\n",
    "        self.data = data\n",
    "        self.next = next\n",
    "        self.prev = prev\n",
    "        #method for setting the data field of the node    \n",
    "    def setData(self,data):\n",
    "        self.data = data\n",
    "        #method for getting the data field of the node   \n",
    "    def getData(self):\n",
    "        return self.data\n",
    "        #method for setting the next field of the nodedef \n",
    "    def setNext(self,next):\n",
    "        self.next = next\n",
    "        #method for getting the next field of the node    \n",
    "    def getNext(self):\n",
    "        return self.next\n",
    "    #returns true if the node points to another node\n",
    "    def hasNext(self):\n",
    "        return self.next != None\n",
    "    #method for setting the next field of the node\n",
    "    def setPrev(self,prev):\n",
    "        self.prev = prev\n",
    "    #method for getting the next field of the node\n",
    "    def getPrev(self):\n",
    "        return self.prev\n",
    "    #returns true if the node points to another node\n",
    "    def hasPrev(self):\n",
    "        return self.prev != None\n",
    "    # __str__ returns string equivalent of Object\n",
    "    def __str__(self):\n",
    "        return \"Node[Data = %s]\" % (self.data,)"
   ]
  },
  {
   "cell_type": "code",
   "execution_count": 2,
   "metadata": {},
   "outputs": [],
   "source": [
    "class doublylinkedlist:\n",
    "    def __init__(self):\n",
    "        self.head=None\n",
    "    \n",
    "    def insertAtEnd(self, data):\n",
    "        if (self.head == None):\n",
    "            # To imply that if head == None\n",
    "            self.head = Node(data)\n",
    "            self.tail = self.head\n",
    "        else:\n",
    "            current = self.head\n",
    "            while(current.next!= None):\n",
    "                current = current.next\n",
    "            b=Node(data, None, current)\n",
    "            current.next=b\n",
    "            self.tail = current.next   \n",
    "    \n",
    "    def insertAtBeginning(self, data):\n",
    "        newNode = Node(data, None, None)\n",
    "        if (self.head == None):\n",
    "            # To imply that if head == None:\n",
    "                self.head = self.tail = newNode\n",
    "        else:\n",
    "            newNode.prev=None\n",
    "            newNode.next=self.head\n",
    "            self.head.prev=newNode\n",
    "            self.head = newNode\n",
    "    def printlinkedlist(self):\n",
    "        if self.head==None:\n",
    "            print(\"list is empty\")\n",
    "        else:\n",
    "            temp=self.head\n",
    "            print(\"data is\")\n",
    "            while temp!=None:\n",
    "                print(temp.data,end=\" \")\n",
    "                temp=temp.next\n",
    "    def printlinkedlistfromend(self):\n",
    "        if self.tail==None:\n",
    "            print(\"list is empty\")\n",
    "        else:\n",
    "            temp=self.tail\n",
    "            print(\"data is\")\n",
    "            while temp!=None:\n",
    "                print(temp.data,end=\" \")\n",
    "                temp=temp.prev\n",
    "    def getNode(self,index):\n",
    "        current=self.head\n",
    "        if current==None:\n",
    "            return None\n",
    "        i=1\n",
    "        while i<index-1 and current.next is not None:\n",
    "            current=current.next\n",
    "            if current==None:\n",
    "                break\n",
    "            i+=1    \n",
    "        return current\n",
    "    def insertatpos(self,index,data):\n",
    "        newnode=Node(data)\n",
    "        if self.head==None or index==0:\n",
    "            self.insertAtBeginning(data)\n",
    "        elif index>0:\n",
    "            temp=self.getNode(index)\n",
    "            print(temp.data)\n",
    "            if  temp==None or temp.next==None:\n",
    "                self.insertAtEnd(data)\n",
    "                print(\"at end\")\n",
    "            else:\n",
    "                newnode.next=temp.next\n",
    "                temp.next=newnode\n",
    "                temp.next.prev=newnode\n",
    "                newnode.prev=temp\n",
    "    def getNodedel(self,index):\n",
    "        current=self.head\n",
    "        if current==None:\n",
    "            return None\n",
    "        i=1\n",
    "        while i<=index-1:\n",
    "            current=current.next\n",
    "            if current==None:\n",
    "                break\n",
    "            i+=1\n",
    "        return current\n",
    "    \n",
    "    def delatpos(self,index):\n",
    "        temp=self.getNodedel(index)\n",
    "        if temp:\n",
    "            temp.prev.next=temp.next\n",
    "            if temp.next:\n",
    "                temp.next.prev=temp.prev\n",
    "            temp.prev=None\n",
    "            temp.next=None\n",
    "            temp.data=None\n",
    "            temp=None\n",
    "    def delbydata(self,data):\n",
    "        temp=self.head\n",
    "        while temp is not None:\n",
    "            if temp.data==data:\n",
    "                if temp.next is not None:\n",
    "                    temp.prev.next=temp.next\n",
    "                    temp.next.prev=temp.prev\n",
    "                else:\n",
    "                    self.head=temp.next\n",
    "                    temp.next.prev=None\n",
    "            temp=temp.next\n",
    "    def rev(self):\n",
    "        p=self.head\n",
    "        while(p!=None):\n",
    "            temp=p.next\n",
    "            p.next=p.prev\n",
    "            p.prev=temp\n",
    "            p=p.prev \n",
    "            if p!=None and p.next==None:\n",
    "                self.head=p "
   ]
  },
  {
   "cell_type": "code",
   "execution_count": 3,
   "metadata": {},
   "outputs": [],
   "source": [
    "l1=doublylinkedlist()"
   ]
  },
  {
   "cell_type": "code",
   "execution_count": 4,
   "metadata": {},
   "outputs": [
    {
     "name": "stdout",
     "output_type": "stream",
     "text": [
      "data is\n",
      "7 6 5 3 2 4 "
     ]
    }
   ],
   "source": [
    "l1.insertAtEnd(2)\n",
    "#l1.printlinkedlist()\n",
    "l1.insertAtBeginning(3)\n",
    "#l1.printlinkedlist()\n",
    "l1.insertAtEnd(4)\n",
    "l1.insertAtBeginning(5)\n",
    "#l1.printlinkedlist()\n",
    "l1.insertAtBeginning(6)\n",
    "l1.insertAtBeginning(7)\n",
    "l1.printlinkedlist()"
   ]
  },
  {
   "cell_type": "code",
   "execution_count": 5,
   "metadata": {},
   "outputs": [
    {
     "name": "stdout",
     "output_type": "stream",
     "text": [
      "data is\n",
      "4 2 3 5 6 7 "
     ]
    }
   ],
   "source": [
    "l1.printlinkedlistfromend()"
   ]
  },
  {
   "cell_type": "code",
   "execution_count": 6,
   "metadata": {},
   "outputs": [
    {
     "name": "stdout",
     "output_type": "stream",
     "text": [
      "5\n",
      "data is\n",
      "7 6 5 9 3 2 4 "
     ]
    }
   ],
   "source": [
    "l1.insertatpos(4,9)\n",
    "l1.printlinkedlist()"
   ]
  },
  {
   "cell_type": "code",
   "execution_count": 7,
   "metadata": {},
   "outputs": [
    {
     "name": "stdout",
     "output_type": "stream",
     "text": [
      "data is\n",
      "7 6 5 3 2 4 "
     ]
    }
   ],
   "source": [
    "l1.delatpos(4)\n",
    "l1.printlinkedlist()"
   ]
  },
  {
   "cell_type": "code",
   "execution_count": 8,
   "metadata": {},
   "outputs": [
    {
     "name": "stdout",
     "output_type": "stream",
     "text": [
      "data is\n",
      "7 6 3 2 4 "
     ]
    }
   ],
   "source": [
    "l1.delbydata(5)\n",
    "l1.printlinkedlist()"
   ]
  },
  {
   "cell_type": "code",
   "execution_count": 9,
   "metadata": {},
   "outputs": [
    {
     "name": "stdout",
     "output_type": "stream",
     "text": [
      "data is\n",
      "7 6 3 2 4 data is\n",
      "4 2 3 6 7 "
     ]
    }
   ],
   "source": [
    "l1.printlinkedlist()\n",
    "l1.rev()\n",
    "l1.printlinkedlist()"
   ]
  }
 ],
 "metadata": {
  "kernelspec": {
   "display_name": "Python 3",
   "language": "python",
   "name": "python3"
  },
  "language_info": {
   "codemirror_mode": {
    "name": "ipython",
    "version": 3
   },
   "file_extension": ".py",
   "mimetype": "text/x-python",
   "name": "python",
   "nbconvert_exporter": "python",
   "pygments_lexer": "ipython3",
   "version": "3.7.4"
  }
 },
 "nbformat": 4,
 "nbformat_minor": 2
}
